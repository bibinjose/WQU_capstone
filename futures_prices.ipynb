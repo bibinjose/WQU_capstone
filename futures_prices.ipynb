{
  "nbformat": 4,
  "nbformat_minor": 0,
  "metadata": {
    "colab": {
      "provenance": [],
      "authorship_tag": "ABX9TyPctx6dIzPBsz3zCs1OYDCw",
      "include_colab_link": true
    },
    "kernelspec": {
      "name": "python3",
      "display_name": "Python 3"
    },
    "language_info": {
      "name": "python"
    }
  },
  "cells": [
    {
      "cell_type": "markdown",
      "metadata": {
        "id": "view-in-github",
        "colab_type": "text"
      },
      "source": [
        "<a href=\"https://colab.research.google.com/github/bibinjose/WQU_capstone/blob/main/futures_prices.ipynb\" target=\"_parent\"><img src=\"https://colab.research.google.com/assets/colab-badge.svg\" alt=\"Open In Colab\"/></a>"
      ]
    },
    {
      "cell_type": "code",
      "source": [
        "!pip install yfinance pandas"
      ],
      "metadata": {
        "colab": {
          "base_uri": "https://localhost:8080/"
        },
        "id": "Tn44s9Ir-tIR",
        "outputId": "c7665b88-06f0-4a52-8971-b1bc38bd0912"
      },
      "execution_count": 1,
      "outputs": [
        {
          "output_type": "stream",
          "name": "stdout",
          "text": [
            "Requirement already satisfied: yfinance in /usr/local/lib/python3.12/dist-packages (0.2.66)\n",
            "Requirement already satisfied: pandas in /usr/local/lib/python3.12/dist-packages (2.2.2)\n",
            "Requirement already satisfied: numpy>=1.16.5 in /usr/local/lib/python3.12/dist-packages (from yfinance) (2.0.2)\n",
            "Requirement already satisfied: requests>=2.31 in /usr/local/lib/python3.12/dist-packages (from yfinance) (2.32.4)\n",
            "Requirement already satisfied: multitasking>=0.0.7 in /usr/local/lib/python3.12/dist-packages (from yfinance) (0.0.12)\n",
            "Requirement already satisfied: platformdirs>=2.0.0 in /usr/local/lib/python3.12/dist-packages (from yfinance) (4.4.0)\n",
            "Requirement already satisfied: pytz>=2022.5 in /usr/local/lib/python3.12/dist-packages (from yfinance) (2025.2)\n",
            "Requirement already satisfied: frozendict>=2.3.4 in /usr/local/lib/python3.12/dist-packages (from yfinance) (2.4.6)\n",
            "Requirement already satisfied: peewee>=3.16.2 in /usr/local/lib/python3.12/dist-packages (from yfinance) (3.18.2)\n",
            "Requirement already satisfied: beautifulsoup4>=4.11.1 in /usr/local/lib/python3.12/dist-packages (from yfinance) (4.13.5)\n",
            "Requirement already satisfied: curl_cffi>=0.7 in /usr/local/lib/python3.12/dist-packages (from yfinance) (0.13.0)\n",
            "Requirement already satisfied: protobuf>=3.19.0 in /usr/local/lib/python3.12/dist-packages (from yfinance) (5.29.5)\n",
            "Requirement already satisfied: websockets>=13.0 in /usr/local/lib/python3.12/dist-packages (from yfinance) (15.0.1)\n",
            "Requirement already satisfied: python-dateutil>=2.8.2 in /usr/local/lib/python3.12/dist-packages (from pandas) (2.9.0.post0)\n",
            "Requirement already satisfied: tzdata>=2022.7 in /usr/local/lib/python3.12/dist-packages (from pandas) (2025.2)\n",
            "Requirement already satisfied: soupsieve>1.2 in /usr/local/lib/python3.12/dist-packages (from beautifulsoup4>=4.11.1->yfinance) (2.8)\n",
            "Requirement already satisfied: typing-extensions>=4.0.0 in /usr/local/lib/python3.12/dist-packages (from beautifulsoup4>=4.11.1->yfinance) (4.15.0)\n",
            "Requirement already satisfied: cffi>=1.12.0 in /usr/local/lib/python3.12/dist-packages (from curl_cffi>=0.7->yfinance) (2.0.0)\n",
            "Requirement already satisfied: certifi>=2024.2.2 in /usr/local/lib/python3.12/dist-packages (from curl_cffi>=0.7->yfinance) (2025.8.3)\n",
            "Requirement already satisfied: six>=1.5 in /usr/local/lib/python3.12/dist-packages (from python-dateutil>=2.8.2->pandas) (1.17.0)\n",
            "Requirement already satisfied: charset_normalizer<4,>=2 in /usr/local/lib/python3.12/dist-packages (from requests>=2.31->yfinance) (3.4.3)\n",
            "Requirement already satisfied: idna<4,>=2.5 in /usr/local/lib/python3.12/dist-packages (from requests>=2.31->yfinance) (3.10)\n",
            "Requirement already satisfied: urllib3<3,>=1.21.1 in /usr/local/lib/python3.12/dist-packages (from requests>=2.31->yfinance) (2.5.0)\n",
            "Requirement already satisfied: pycparser in /usr/local/lib/python3.12/dist-packages (from cffi>=1.12.0->curl_cffi>=0.7->yfinance) (2.23)\n"
          ]
        }
      ]
    },
    {
      "cell_type": "code",
      "execution_count": 3,
      "metadata": {
        "colab": {
          "base_uri": "https://localhost:8080/"
        },
        "id": "aWq5MOA4-m6s",
        "outputId": "0e612062-2ac5-4498-8159-01507b2a227c"
      },
      "outputs": [
        {
          "output_type": "stream",
          "name": "stderr",
          "text": [
            "/tmp/ipython-input-816897389.py:14: FutureWarning: YF.download() has changed argument auto_adjust default to True\n",
            "  df = yf.download(sym, period=\"2y\", interval=\"1d\", progress=False)\n",
            "/tmp/ipython-input-816897389.py:14: FutureWarning: YF.download() has changed argument auto_adjust default to True\n",
            "  df = yf.download(sym, period=\"2y\", interval=\"1d\", progress=False)\n"
          ]
        },
        {
          "output_type": "stream",
          "name": "stdout",
          "text": [
            "\n",
            "CORN (ZC=F) - last 5 rows:\n",
            "Price         Open    High     Low   Close  Volume\n",
            "Ticker        ZC=F    ZC=F    ZC=F    ZC=F    ZC=F\n",
            "Date                                              \n",
            "2025-09-25  423.75  428.25  423.50  425.75  146851\n",
            "2025-09-26  425.25  425.75  421.25  422.00  131813\n",
            "2025-09-29  421.00  422.75  418.75  421.50  146154\n",
            "2025-09-30  421.25  421.50  414.00  415.50  146154\n",
            "2025-10-01  415.75  419.50  410.50  418.25  261512\n",
            "\n",
            "WHEAT (ZW=F) - last 5 rows:\n",
            "Price         Open    High     Low   Close Volume\n",
            "Ticker        ZW=F    ZW=F    ZW=F    ZW=F   ZW=F\n",
            "Date                                             \n",
            "2025-09-25  520.50  527.50  518.25  527.00  56448\n",
            "2025-09-26  526.25  527.75  518.75  519.75  52731\n",
            "2025-09-29  519.00  522.50  516.75  519.50  44889\n",
            "2025-09-30  519.50  519.75  506.75  508.00  44889\n",
            "2025-10-01  508.00  510.25  502.00  510.00  77876\n",
            "\n",
            "SOYBEANS (ZS=F) - last 5 rows:\n",
            "Price          Open     High      Low    Close  Volume\n",
            "Ticker         ZS=F     ZS=F     ZS=F     ZS=F    ZS=F\n",
            "Date                                                  \n",
            "2025-09-25  1008.50  1017.00  1006.50  1012.25  132635\n",
            "2025-09-26  1012.00  1015.75  1008.75  1013.75  103466\n",
            "2025-09-29  1011.75  1013.75  1006.00  1010.50  103672\n",
            "2025-09-30  1009.25  1009.25  1000.50  1001.75  103672\n",
            "2025-10-01  1000.25  1020.00   993.75  1015.00  187315\n"
          ]
        },
        {
          "output_type": "stream",
          "name": "stderr",
          "text": [
            "/tmp/ipython-input-816897389.py:14: FutureWarning: YF.download() has changed argument auto_adjust default to True\n",
            "  df = yf.download(sym, period=\"2y\", interval=\"1d\", progress=False)\n"
          ]
        }
      ],
      "source": [
        "\n",
        "import yfinance as yf\n",
        "import pandas as pd\n",
        "\n",
        "# Continuous front-month CBOT futures\n",
        "symbols = {\n",
        "    \"corn\": \"ZC=F\",\n",
        "    \"wheat\": \"ZW=F\",\n",
        "    \"soybeans\": \"ZS=F\"\n",
        "}\n",
        "\n",
        "# Download 2 years of daily data\n",
        "data = {}\n",
        "for name, sym in symbols.items():\n",
        "    df = yf.download(sym, period=\"2y\", interval=\"1d\", progress=False)\n",
        "    data[name] = df\n",
        "    print(f\"\\n{name.upper()} ({sym}) - last 5 rows:\")\n",
        "    print(df.tail(5)[[\"Open\", \"High\", \"Low\", \"Close\", \"Volume\"]])\n",
        "\n",
        "\n"
      ]
    }
  ]
}