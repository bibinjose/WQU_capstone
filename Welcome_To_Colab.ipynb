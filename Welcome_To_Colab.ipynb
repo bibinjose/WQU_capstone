{
  "cells": [
    {
      "cell_type": "markdown",
      "metadata": {
        "id": "view-in-github",
        "colab_type": "text"
      },
      "source": [
        "<a href=\"https://colab.research.google.com/github/bibinjose/WQU_capstone/blob/main/Welcome_To_Colab.ipynb\" target=\"_parent\"><img src=\"https://colab.research.google.com/assets/colab-badge.svg\" alt=\"Open In Colab\"/></a>"
      ]
    },
    {
      "cell_type": "markdown",
      "source": [
        "Value-at-Risk (VaR) and Expected Shortfall (ES) in Commodities"
      ],
      "metadata": {
        "id": "zSfTFrVevvGr"
      }
    },
    {
      "cell_type": "code",
      "source": [],
      "metadata": {
        "id": "MnS5AGJkvm31"
      },
      "execution_count": null,
      "outputs": []
    },
    {
      "cell_type": "markdown",
      "source": [
        "Producer CFaR / VaR–ES Risk Engine"
      ],
      "metadata": {
        "id": "t5nIj7o8v4xU"
      }
    },
    {
      "cell_type": "code",
      "source": [],
      "metadata": {
        "id": "JCg25zzNhj3Y"
      },
      "execution_count": null,
      "outputs": []
    },
    {
      "cell_type": "code",
      "source": [
        "import numpy as np\n",
        "import pandas as pd\n",
        "import yfinance as yf\n",
        "from scipy.stats import t as student_t, jarque_bera\n",
        "from statsmodels.stats.diagnostic import acorr_ljungbox\n",
        "from numpy.linalg import eigh, cholesky\n",
        "\n",
        "TICKERS = [\"ZC=F\", \"ZS=F\", \"ZW=F\"]\n",
        "START = \"2014-01-01\"\n",
        "END = None\n",
        "USE_BASIS = False\n",
        "BASIS_USD_PER_BU = {\n",
        "    \"ZC=F\": 0.00,\n",
        "    \"ZS=F\": 0.00,\n",
        "    \"ZW=F\": 0.00,\n",
        "}\n",
        "\n",
        "EXPOSURE_BUSHELS = {\"ZC=F\": 1_000_000, \"ZS=F\": 600_000, \"ZW=F\": 800_000}\n",
        "\n",
        "HORIZON_DAYS = 20\n",
        "N_PATHS = 25_000\n",
        "DIST = \"student_t\"\n",
        "T_DF = 6\n",
        "CONF_VAR = 0.99\n",
        "CONF_ES = 0.975\n",
        "CFAR_TARGET_FRACTION = 0.20\n",
        "FUT_CONTRACT_SIZE = 5_000.0\n",
        "\n",
        "\n",
        "data = yf.download(TICKERS, start=START, end=END, progress=False)\n",
        "prices_fut = data[\"Close\"].dropna(how=\"all\")  # $/bu\n",
        "if isinstance(prices_fut, pd.Series):\n",
        "    prices_fut = prices_fut.to_frame()\n",
        "\n",
        "if USE_BASIS:\n",
        "    basis = pd.DataFrame({t: BASIS_USD_PER_BU.get(t, 0.0) for t in TICKERS}, index=prices_fut.index)\n",
        "    prices_cash = (prices_fut + basis).dropna(how=\"any\", axis=0)\n",
        "else:\n",
        "    prices_cash = prices_fut.copy()\n",
        "\n",
        "returns = np.log(prices_fut / prices_fut.shift(1)).dropna()\n",
        "\n",
        "\n",
        "print(\"LAST PRICES (cash) USD/bu\")\n",
        "print(prices_cash.iloc[-1].round(4))\n"
      ],
      "metadata": {
        "colab": {
          "base_uri": "https://localhost:8080/"
        },
        "id": "bQ3AyY_IF0hh",
        "outputId": "fdea95e6-4489-4e3e-936c-4e11b7e5dc92"
      },
      "execution_count": 5,
      "outputs": [
        {
          "output_type": "stream",
          "name": "stderr",
          "text": [
            "/tmp/ipython-input-142517262.py:30: FutureWarning: YF.download() has changed argument auto_adjust default to True\n",
            "  data = yf.download(TICKERS, start=START, end=END, progress=False)\n"
          ]
        },
        {
          "output_type": "stream",
          "name": "stdout",
          "text": [
            "LAST PRICES (cash) USD/bu\n",
            "Ticker\n",
            "ZC=F     418.25\n",
            "ZS=F    1015.00\n",
            "ZW=F     510.00\n",
            "Name: 2025-10-01 00:00:00, dtype: float64\n"
          ]
        }
      ]
    },
    {
      "cell_type": "code",
      "source": [
        "print(\"DESCRIPTIVE STATS (daily log returns x 1e2 %)\")\n",
        "desc = (returns * 100).describe().T\n",
        "desc[\"skew\"] = (returns * 100).skew()\n",
        "desc[\"kurtosis_excess\"] = (returns * 100).kurtosis()\n",
        "print(desc.round(3))"
      ],
      "metadata": {
        "colab": {
          "base_uri": "https://localhost:8080/"
        },
        "id": "6FaryDzfGD2f",
        "outputId": "3cece45c-ed92-4361-b08a-00a666f33d73"
      },
      "execution_count": 6,
      "outputs": [
        {
          "output_type": "stream",
          "name": "stdout",
          "text": [
            "DESCRIPTIVE STATS (daily log returns x 1e2 %)\n",
            "         count   mean    std     min    25%    50%    75%     max   skew  \\\n",
            "Ticker                                                                     \n",
            "ZC=F    2950.0 -0.001  1.603 -19.100 -0.867  0.000  0.878   7.718 -1.243   \n",
            "ZS=F    2950.0 -0.008  1.326 -11.092 -0.753  0.036  0.738   6.426 -0.842   \n",
            "ZW=F    2950.0 -0.005  1.953 -11.297 -1.216 -0.059  1.118  19.701  0.509   \n",
            "\n",
            "        kurtosis_excess  \n",
            "Ticker                   \n",
            "ZC=F             15.765  \n",
            "ZS=F              7.021  \n",
            "ZW=F              5.076  \n"
          ]
        }
      ]
    },
    {
      "cell_type": "code",
      "source": [
        "print(\"NORMALITY: Jarque–Bera p-values\")\n",
        "jb_rows = []\n",
        "for c in returns.columns:\n",
        "    stat, p = jarque_bera(returns[c].dropna())\n",
        "    jb_rows.append((c, p))\n",
        "print(pd.DataFrame(jb_rows, columns=[\"asset\", \"JB_pval\"]).set_index(\"asset\").round(4))\n"
      ],
      "metadata": {
        "colab": {
          "base_uri": "https://localhost:8080/"
        },
        "id": "9ZHGFw3VGSSn",
        "outputId": "327ace85-fb9e-4786-cf08-559007bb269c"
      },
      "execution_count": 7,
      "outputs": [
        {
          "output_type": "stream",
          "name": "stdout",
          "text": [
            "NORMALITY: Jarque–Bera p-values\n",
            "       JB_pval\n",
            "asset         \n",
            "ZC=F       0.0\n",
            "ZS=F       0.0\n",
            "ZW=F       0.0\n"
          ]
        }
      ]
    },
    {
      "cell_type": "code",
      "source": [
        "print(\"AUTOCORRELATION (Ljung–Box p-values at lags 5, 20)\")\n",
        "lb_rows = []\n",
        "for c in returns.columns:\n",
        "    lb5 = acorr_ljungbox(returns[c].dropna(), lags=[5], return_df=True)[\"lb_pvalue\"].iloc[0]\n",
        "    lb20 = acorr_ljungbox(returns[c].dropna(), lags=[20], return_df=True)[\"lb_pvalue\"].iloc[0]\n",
        "    lb_rows.append((c, lb5, lb20))\n",
        "print(pd.DataFrame(lb_rows, columns=[\"asset\", \"LB_p(5)\", \"LB_p(20)\"]).set_index(\"asset\").round(4))\n"
      ],
      "metadata": {
        "colab": {
          "base_uri": "https://localhost:8080/"
        },
        "id": "1q6OJhViGYXH",
        "outputId": "f82f74ed-2711-4a01-f043-13fc11415bd7"
      },
      "execution_count": 8,
      "outputs": [
        {
          "output_type": "stream",
          "name": "stdout",
          "text": [
            "AUTOCORRELATION (Ljung–Box p-values at lags 5, 20)\n",
            "       LB_p(5)  LB_p(20)\n",
            "asset                   \n",
            "ZC=F    0.1724    0.6749\n",
            "ZS=F    0.0055    0.0077\n",
            "ZW=F    0.0049    0.0075\n"
          ]
        }
      ]
    },
    {
      "cell_type": "code",
      "source": [
        "print(\"CORRELATION MATRIX (daily returns)\")\n",
        "print(returns.corr().round(3))\n",
        "\n",
        "print(\"ROLLING VOL (21d, annualized %)\")\n",
        "roll_vol = returns.rolling(21).std() * np.sqrt(252) * 100\n",
        "print(roll_vol.iloc[-1].round(2))\n",
        "\n",
        "\n"
      ],
      "metadata": {
        "colab": {
          "base_uri": "https://localhost:8080/"
        },
        "id": "pB1kGT-DGeQZ",
        "outputId": "9e95e1f0-b2d3-46d7-fe17-30e953c8be8a"
      },
      "execution_count": 10,
      "outputs": [
        {
          "output_type": "stream",
          "name": "stdout",
          "text": [
            "CORRELATION MATRIX (daily returns)\n",
            "Ticker   ZC=F   ZS=F   ZW=F\n",
            "Ticker                     \n",
            "ZC=F    1.000  0.520  0.529\n",
            "ZS=F    0.520  1.000  0.327\n",
            "ZW=F    0.529  0.327  1.000\n",
            "ROLLING VOL (21d, annualized %) — last values\n",
            "Ticker\n",
            "ZC=F    24.24\n",
            "ZS=F    13.38\n",
            "ZW=F    25.07\n",
            "Name: 2025-10-01 00:00:00, dtype: float64\n"
          ]
        }
      ]
    },
    {
      "cell_type": "code",
      "source": [
        "print(\"TAIL CHECK: Empirical vs Gaussian 1% loss (in % return points)\")\n",
        "tail_rows = []\n",
        "for c in returns.columns:\n",
        "    r = returns[c].dropna()\n",
        "    emp_q = np.quantile(r, 0.01) * 100\n",
        "    mu, sig = r.mean(), r.std()\n",
        "    gauss_q = (mu + sig * np.quantile(np.random.normal(size=1_000_000), 0.01)) * 100\n",
        "    tail_rows.append((c, emp_q, gauss_q))\n",
        "print(pd.DataFrame(tail_rows, columns=[\"asset\", \"empirical_1pct\", \"gaussian_1pct\"]).set_index(\"asset\").round(3))"
      ],
      "metadata": {
        "colab": {
          "base_uri": "https://localhost:8080/"
        },
        "id": "5MbhKMcuGmJb",
        "outputId": "0ecb4708-d84c-46ba-c95b-c03ac5ade547"
      },
      "execution_count": 12,
      "outputs": [
        {
          "output_type": "stream",
          "name": "stdout",
          "text": [
            "TAIL CHECK: Empirical vs Gaussian 1% loss (in % return points)\n",
            "       empirical_1pct  gaussian_1pct\n",
            "asset                               \n",
            "ZC=F           -4.320         -3.729\n",
            "ZS=F           -3.491         -3.094\n",
            "ZW=F           -4.259         -4.547\n"
          ]
        }
      ]
    },
    {
      "cell_type": "code",
      "source": [],
      "metadata": {
        "id": "2_6h4LxfGsKK"
      },
      "execution_count": null,
      "outputs": []
    }
  ],
  "metadata": {
    "colab": {
      "name": "Welcome To Colab",
      "toc_visible": true,
      "provenance": [],
      "include_colab_link": true
    },
    "kernelspec": {
      "display_name": "Python 3",
      "name": "python3"
    }
  },
  "nbformat": 4,
  "nbformat_minor": 0
}